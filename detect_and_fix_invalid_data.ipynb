{
 "cells": [
  {
   "cell_type": "markdown",
   "id": "71ae4032",
   "metadata": {},
   "source": [
    "# 📝 Detect & Fix Invalid Data Formats in Pandas"
   ]
  },
  {
   "cell_type": "markdown",
   "id": "3cc7c665",
   "metadata": {},
   "source": [
    "## **1️⃣ Load Sample Data**"
   ]
  },
  {
   "cell_type": "code",
   "execution_count": null,
   "id": "1c37da3e",
   "metadata": {},
   "outputs": [],
   "source": [
    "\n",
    "import pandas as pd\n",
    "\n",
    "# Sample DataFrame with incorrect formats\n",
    "data = {\n",
    "    'fare_amount': ['12.50', '15.00', 'invalid', '-10', '25.75', 'free', '30.00'],\n",
    "    'trip_distance': ['2.5', 'invalid', '5.0', '-3', '10', '7.2', 'unknown'],\n",
    "    'email': ['test@example.com', 'invalid-email', 'user@domain', 'hello@gmail.com']\n",
    "}\n",
    "df = pd.DataFrame(data)\n",
    "\n",
    "# Display the dataset\n",
    "print(\"Original Data:\")\n",
    "display(df)\n",
    "    "
   ]
  },
  {
   "cell_type": "markdown",
   "id": "6b45dc27",
   "metadata": {},
   "source": [
    "## **2️⃣ Detect Invalid Rows**"
   ]
  },
  {
   "cell_type": "code",
   "execution_count": null,
   "id": "08fb33ab",
   "metadata": {},
   "outputs": [],
   "source": [
    "\n",
    "# Detect non-numeric fare_amount values\n",
    "invalid_fares = df[~df['fare_amount'].astype(str).str.match(r'^\\d+(\\.\\d+)?$')]\n",
    "\n",
    "# Detect non-numeric trip_distance values\n",
    "invalid_distances = df[~df['trip_distance'].astype(str).str.match(r'^\\d+(\\.\\d+)?$')]\n",
    "\n",
    "# Detect invalid email format\n",
    "invalid_emails = df[~df['email'].str.match(r'^[a-zA-Z0-9._%+-]+@[a-zA-Z0-9.-]+\\.[a-zA-Z]{2,}$')]\n",
    "\n",
    "# Count invalid rows\n",
    "print(f\"Number of invalid fares: {len(invalid_fares)}\")\n",
    "print(f\"Number of invalid distances: {len(invalid_distances)}\")\n",
    "print(f\"Number of invalid emails: {len(invalid_emails)}\")\n",
    "\n",
    "# Display invalid rows\n",
    "print(\"Invalid Fares:\")\n",
    "display(invalid_fares)\n",
    "\n",
    "print(\"Invalid Distances:\")\n",
    "display(invalid_distances)\n",
    "\n",
    "print(\"Invalid Emails:\")\n",
    "display(invalid_emails)\n",
    "    "
   ]
  },
  {
   "cell_type": "markdown",
   "id": "c6dfcb3c",
   "metadata": {},
   "source": [
    "## **3️⃣ Fix Invalid Data**"
   ]
  },
  {
   "cell_type": "code",
   "execution_count": null,
   "id": "95a683a8",
   "metadata": {},
   "outputs": [],
   "source": [
    "\n",
    "# Convert invalid fares to NaN\n",
    "df['fare_amount'] = pd.to_numeric(df['fare_amount'], errors='coerce')\n",
    "\n",
    "# Convert invalid distances to NaN\n",
    "df['trip_distance'] = pd.to_numeric(df['trip_distance'], errors='coerce')\n",
    "\n",
    "# Replace invalid emails with NaN\n",
    "df.loc[~df['email'].str.match(r'^[a-zA-Z0-9._%+-]+@[a-zA-Z0-9.-]+\\.[a-zA-Z]{2,}$'), 'email'] = None\n",
    "\n",
    "# Fill missing fare and distance values with their respective means\n",
    "df['fare_amount'].fillna(df['fare_amount'].mean(), inplace=True)\n",
    "df['trip_distance'].fillna(df['trip_distance'].mean(), inplace=True)\n",
    "\n",
    "# Display cleaned dataset\n",
    "print(\"Cleaned Data:\")\n",
    "display(df)\n",
    "    "
   ]
  }
 ],
 "metadata": {},
 "nbformat": 4,
 "nbformat_minor": 5
}
