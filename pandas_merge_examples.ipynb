{
 "cells": [
  {
   "cell_type": "code",
   "execution_count": null,
   "id": "2c5932fc",
   "metadata": {},
   "outputs": [],
   "source": [
    "# Different Types of Merges in Pandas\n",
    "import pandas as pd\n",
    "\n",
    "# Create two sample DataFrames\n",
    "df1 = pd.DataFrame({'ID': [1, 2, 3], 'Name': ['Alice', 'Bob', 'Charlie']})\n",
    "df2 = pd.DataFrame({'ID': [2, 3, 4], 'Salary': [70000, 80000, 90000]})\n",
    "display(df1)\n",
    "display(df2)"
   ]
  },
  {
   "cell_type": "code",
   "execution_count": null,
   "id": "dfe67aa1",
   "metadata": {},
   "outputs": [],
   "source": [
    "# Inner Join\n",
    "#Returns only the matching rows from both DataFrames.\n",
    "\n",
    "inner_join = pd.merge(df1, df2, on='ID', how='inner')\n",
    "display(inner_join)"
   ]
  },
  {
   "cell_type": "code",
   "execution_count": null,
   "id": "6564b02b",
   "metadata": {},
   "outputs": [],
   "source": [
    "# Left Join\n",
    "\n",
    "#All rows from df2 are kept. df1 does not have ID 4, so NaN appears.\n",
    "#Returns all rows from the left DataFrame and matching rows from the right.\n",
    "\n",
    "\n",
    "left_join = pd.merge(df1, df2, on='ID', how='left')\n",
    "display(left_join)"
   ]
  },
  {
   "cell_type": "code",
   "execution_count": null,
   "id": "bca421b2",
   "metadata": {},
   "outputs": [],
   "source": [
    "# Right Join\n",
    "##Returns all rows from the right DataFrame and matching rows from the left.\n",
    "right_join = pd.merge(df1, df2, on='ID', how='right')\n",
    "display(right_join)"
   ]
  },
  {
   "cell_type": "code",
   "execution_count": null,
   "id": "1ee54051",
   "metadata": {},
   "outputs": [],
   "source": [
    "# Outer Join\n",
    "#Returns all rows from both DataFrames, filling missing values with NaN\n",
    "outer_join = pd.merge(df1, df2, on='ID', how='outer')\n",
    "display(outer_join)"
   ]
  },
  {
   "cell_type": "code",
   "execution_count": null,
   "id": "522d3886",
   "metadata": {},
   "outputs": [],
   "source": [
    "# Cross Join\n",
    "#Matches each row of one DataFrame with every row of the other.\n",
    "\n",
    "\n",
    "cross_join = df1.merge(df2, how='cross')\n",
    "display(cross_join)"
   ]
  }
 ],
 "metadata": {
  "kernelspec": {
   "display_name": "Python 3 (ipykernel)",
   "language": "python",
   "name": "python3"
  },
  "language_info": {
   "codemirror_mode": {
    "name": "ipython",
    "version": 3
   },
   "file_extension": ".py",
   "mimetype": "text/x-python",
   "name": "python",
   "nbconvert_exporter": "python",
   "pygments_lexer": "ipython3",
   "version": "3.12.9"
  }
 },
 "nbformat": 4,
 "nbformat_minor": 5
}
