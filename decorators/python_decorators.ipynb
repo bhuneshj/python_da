{
 "cells": [
  {
   "cell_type": "markdown",
   "id": "d233aece",
   "metadata": {},
   "source": [
    "# Python Decorators - Hands-On Examples"
   ]
  },
  {
   "cell_type": "markdown",
   "id": "662c5947",
   "metadata": {},
   "source": [
    "## Basic Logging Decorator\n",
    "This decorator logs when a function starts and ends execution."
   ]
  },
  {
   "cell_type": "code",
   "execution_count": 11,
   "id": "56ceda63",
   "metadata": {},
   "outputs": [
    {
     "name": "stdout",
     "output_type": "stream",
     "text": [
      "Executing say_hello\n",
      "Hello, World!\n",
      "Finished say_hello\n"
     ]
    }
   ],
   "source": [
    "def log_decorator(func):\n",
    "    def wrapper():\n",
    "        print(f\"Executing {func.__name__}\")\n",
    "        func()\n",
    "        print(f\"Finished {func.__name__}\")\n",
    "    return wrapper\n",
    "\n",
    "@log_decorator\n",
    "def say_hello():\n",
    "    print(\"Hello, World!\")\n",
    "\n",
    "say_hello()\n"
   ]
  },
  {
   "cell_type": "markdown",
   "id": "5e0b42af",
   "metadata": {},
   "source": [
    "## 2️ Measuring Execution Time\n",
    "This decorator measures the time taken by a function to execute."
   ]
  },
  {
   "cell_type": "code",
   "execution_count": 12,
   "id": "c73b88ac",
   "metadata": {},
   "outputs": [
    {
     "name": "stdout",
     "output_type": "stream",
     "text": [
      "⏳ calculate_squares took 0.0000 seconds\n"
     ]
    },
    {
     "data": {
      "text/plain": [
       "[0, 1, 4, 9, 16, 25, 36, 49, 64, 81, 100, 121, 144, 169, 196]"
      ]
     },
     "execution_count": 12,
     "metadata": {},
     "output_type": "execute_result"
    }
   ],
   "source": [
    "import time\n",
    "\n",
    "def timer_decorator(func):\n",
    "    def wrapper(*args, **kwargs):\n",
    "        start_time = time.time()\n",
    "        result = func(*args, **kwargs)\n",
    "        end_time = time.time()\n",
    "        print(f\"⏳ {func.__name__} took {end_time - start_time:.4f} seconds\")\n",
    "        return result\n",
    "    return wrapper\n",
    "\n",
    "@timer_decorator\n",
    "def calculate_squares(n):\n",
    "    return [i**2 for i in range(n)]\n",
    "\n",
    "calculate_squares(15)\n"
   ]
  },
  {
   "cell_type": "markdown",
   "id": "e3cd3643",
   "metadata": {},
   "source": [
    "## 3️ Authorization Decorator\n",
    "A decorator to restrict function execution based on user roles."
   ]
  },
  {
   "cell_type": "code",
   "execution_count": 13,
   "id": "0cc63cfe",
   "metadata": {},
   "outputs": [
    {
     "name": "stdout",
     "output_type": "stream",
     "text": [
      "❌ Access Denied! Only admins can run this function.\n"
     ]
    }
   ],
   "source": [
    "def authorize(user_role):\n",
    "    def decorator(func):\n",
    "        def wrapper(*args, **kwargs):\n",
    "            if user_role != \"admin\":\n",
    "                print(\"❌ Access Denied! Only admins can run this function.\")\n",
    "                return\n",
    "            return func(*args, **kwargs)\n",
    "        return wrapper\n",
    "    return decorator\n",
    "\n",
    "@authorize(\"user\")  # Change to 'admin' to allow access\n",
    "def delete_database():\n",
    "    print(\"🗑 Database Deleted!\")\n",
    "\n",
    "delete_database()\n"
   ]
  },
  {
   "cell_type": "markdown",
   "id": "d0867947",
   "metadata": {},
   "source": [
    "## 4️ Caching Results (Memoization)\n",
    "This decorator caches results to speed up function execution."
   ]
  },
  {
   "cell_type": "code",
   "execution_count": 14,
   "id": "b01180fb",
   "metadata": {},
   "outputs": [
    {
     "name": "stdout",
     "output_type": "stream",
     "text": [
      "⚡ Computing 10\n",
      "⚡ Computing 9\n",
      "⚡ Computing 8\n",
      "⚡ Computing 7\n",
      "⚡ Computing 6\n",
      "⚡ Computing 5\n",
      "⚡ Computing 4\n",
      "⚡ Computing 3\n",
      "⚡ Computing 2\n",
      "⚡ Computing 1\n",
      "⚡ Computing 0\n",
      "🔄 Fetching from cache: 1\n",
      "🔄 Fetching from cache: 2\n",
      "🔄 Fetching from cache: 3\n",
      "🔄 Fetching from cache: 4\n",
      "🔄 Fetching from cache: 5\n",
      "🔄 Fetching from cache: 6\n",
      "🔄 Fetching from cache: 7\n",
      "🔄 Fetching from cache: 8\n",
      "55\n"
     ]
    }
   ],
   "source": [
    "def cache_decorator(func):\n",
    "    cache = {}\n",
    "\n",
    "    def wrapper(n):\n",
    "        if n in cache:\n",
    "            print(f\"🔄 Fetching from cache: {n}\")\n",
    "            return cache[n]\n",
    "        print(f\"⚡ Computing {n}\")\n",
    "        result = func(n)\n",
    "        cache[n] = result\n",
    "        return result\n",
    "    return wrapper\n",
    "\n",
    "@cache_decorator\n",
    "def fibonacci(n):\n",
    "    if n <= 1:\n",
    "        return n\n",
    "    return fibonacci(n-1) + fibonacci(n-2)\n",
    "\n",
    "print(fibonacci(10))\n"
   ]
  },
  {
   "cell_type": "markdown",
   "id": "af2410a6",
   "metadata": {},
   "source": [
    "## 5️ Multiple Decorators\n",
    "You can stack multiple decorators to modify function behavior."
   ]
  },
  {
   "cell_type": "code",
   "execution_count": 15,
   "id": "0887beee",
   "metadata": {},
   "outputs": [
    {
     "name": "stdout",
     "output_type": "stream",
     "text": [
      "HELLO!!!\n"
     ]
    }
   ],
   "source": [
    "def uppercase_decorator(func):\n",
    "    def wrapper():\n",
    "        return func().upper()\n",
    "    return wrapper\n",
    "\n",
    "def exclamation_decorator(func):\n",
    "    def wrapper():\n",
    "        return func() + \"!!!\"\n",
    "    return wrapper\n",
    "\n",
    "@exclamation_decorator\n",
    "@uppercase_decorator\n",
    "def greet():\n",
    "    return \"hello\"\n",
    "\n",
    "print(greet())\n"
   ]
  },
  {
   "cell_type": "markdown",
   "id": "d24c47a9",
   "metadata": {},
   "source": [
    "## 6️ Class-Based Decorators\n",
    "Instead of functions, we can create decorators using classes."
   ]
  },
  {
   "cell_type": "code",
   "execution_count": 17,
   "id": "329d3dd9",
   "metadata": {},
   "outputs": [
    {
     "name": "stdout",
     "output_type": "stream",
     "text": [
      " Executing greet\n",
      "Hello, Alice!\n"
     ]
    }
   ],
   "source": [
    "class LogDecorator:\n",
    "    def __init__(self, func):\n",
    "        self.func = func\n",
    "\n",
    "    def __call__(self, *args, **kwargs):\n",
    "        print(f\" Executing {self.func.__name__}\")\n",
    "        return self.func(*args, **kwargs)\n",
    "\n",
    "@LogDecorator\n",
    "def greet(name):\n",
    "    print(f\"Hello, {name}!\")\n",
    "\n",
    "greet(\"Alice\")\n"
   ]
  },
  {
   "cell_type": "markdown",
   "id": "b2aba46c",
   "metadata": {},
   "source": [
    "## 7️ Decorating Methods in Classes\n",
    "Decorators can be applied to class methods as well."
   ]
  },
  {
   "cell_type": "code",
   "execution_count": 18,
   "id": "72059cb5",
   "metadata": {},
   "outputs": [
    {
     "name": "stdout",
     "output_type": "stream",
     "text": [
      "📌 Method add called\n",
      "8\n"
     ]
    }
   ],
   "source": [
    "def method_logger(func):\n",
    "    def wrapper(*args, **kwargs):\n",
    "        print(f\"📌 Method {func.__name__} called\")\n",
    "        return func(*args, **kwargs)\n",
    "    return wrapper\n",
    "\n",
    "class MathOperations:\n",
    "    @method_logger\n",
    "    def add(self, x, y):\n",
    "        return x + y\n",
    "\n",
    "math = MathOperations()\n",
    "print(math.add(5, 3))\n"
   ]
  },
  {
   "cell_type": "code",
   "execution_count": null,
   "id": "0fa3b923-8be9-4df8-a84a-c6fa523bd6de",
   "metadata": {},
   "outputs": [],
   "source": []
  }
 ],
 "metadata": {
  "kernelspec": {
   "display_name": "Python 3 (ipykernel)",
   "language": "python",
   "name": "python3"
  },
  "language_info": {
   "codemirror_mode": {
    "name": "ipython",
    "version": 3
   },
   "file_extension": ".py",
   "mimetype": "text/x-python",
   "name": "python",
   "nbconvert_exporter": "python",
   "pygments_lexer": "ipython3",
   "version": "3.12.9"
  }
 },
 "nbformat": 4,
 "nbformat_minor": 5
}
