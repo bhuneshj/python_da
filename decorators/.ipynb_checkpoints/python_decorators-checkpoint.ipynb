{
 "cells": [
  {
   "cell_type": "markdown",
   "id": "d233aece",
   "metadata": {},
   "source": [
    "# Python Decorators - Hands-On Examples\n",
    "This notebook covers multiple decorator examples from basic to advanced concepts."
   ]
  },
  {
   "cell_type": "markdown",
   "id": "662c5947",
   "metadata": {},
   "source": [
    "## 1️⃣ Basic Logging Decorator\n",
    "This decorator logs when a function starts and ends execution."
   ]
  },
  {
   "cell_type": "code",
   "execution_count": null,
   "id": "56ceda63",
   "metadata": {},
   "outputs": [],
   "source": [
    "def log_decorator(func):\n",
    "    def wrapper():\n",
    "        print(f\"📌 Executing {func.__name__}\")\n",
    "        func()\n",
    "        print(f\"✅ Finished {func.__name__}\")\n",
    "    return wrapper\n",
    "\n",
    "@log_decorator\n",
    "def say_hello():\n",
    "    print(\"Hello, World!\")\n",
    "\n",
    "say_hello()\n"
   ]
  },
  {
   "cell_type": "markdown",
   "id": "5e0b42af",
   "metadata": {},
   "source": [
    "## 2️⃣ Measuring Execution Time\n",
    "This decorator measures the time taken by a function to execute."
   ]
  },
  {
   "cell_type": "code",
   "execution_count": null,
   "id": "c73b88ac",
   "metadata": {},
   "outputs": [],
   "source": [
    "import time\n",
    "\n",
    "def timer_decorator(func):\n",
    "    def wrapper(*args, **kwargs):\n",
    "        start_time = time.time()\n",
    "        result = func(*args, **kwargs)\n",
    "        end_time = time.time()\n",
    "        print(f\"⏳ {func.__name__} took {end_time - start_time:.4f} seconds\")\n",
    "        return result\n",
    "    return wrapper\n",
    "\n",
    "@timer_decorator\n",
    "def calculate_squares(n):\n",
    "    return [i**2 for i in range(n)]\n",
    "\n",
    "calculate_squares(1000000)\n"
   ]
  },
  {
   "cell_type": "markdown",
   "id": "e3cd3643",
   "metadata": {},
   "source": [
    "## 3️⃣ Authorization Decorator\n",
    "A decorator to restrict function execution based on user roles."
   ]
  },
  {
   "cell_type": "code",
   "execution_count": null,
   "id": "0cc63cfe",
   "metadata": {},
   "outputs": [],
   "source": [
    "def authorize(user_role):\n",
    "    def decorator(func):\n",
    "        def wrapper(*args, **kwargs):\n",
    "            if user_role != \"admin\":\n",
    "                print(\"❌ Access Denied! Only admins can run this function.\")\n",
    "                return\n",
    "            return func(*args, **kwargs)\n",
    "        return wrapper\n",
    "    return decorator\n",
    "\n",
    "@authorize(\"user\")  # Change to 'admin' to allow access\n",
    "def delete_database():\n",
    "    print(\"🗑 Database Deleted!\")\n",
    "\n",
    "delete_database()\n"
   ]
  },
  {
   "cell_type": "markdown",
   "id": "d0867947",
   "metadata": {},
   "source": [
    "## 4️⃣ Caching Results (Memoization)\n",
    "This decorator caches results to speed up function execution."
   ]
  },
  {
   "cell_type": "code",
   "execution_count": null,
   "id": "b01180fb",
   "metadata": {},
   "outputs": [],
   "source": [
    "def cache_decorator(func):\n",
    "    cache = {}\n",
    "\n",
    "    def wrapper(n):\n",
    "        if n in cache:\n",
    "            print(f\"🔄 Fetching from cache: {n}\")\n",
    "            return cache[n]\n",
    "        print(f\"⚡ Computing {n}\")\n",
    "        result = func(n)\n",
    "        cache[n] = result\n",
    "        return result\n",
    "    return wrapper\n",
    "\n",
    "@cache_decorator\n",
    "def fibonacci(n):\n",
    "    if n <= 1:\n",
    "        return n\n",
    "    return fibonacci(n-1) + fibonacci(n-2)\n",
    "\n",
    "print(fibonacci(10))\n"
   ]
  },
  {
   "cell_type": "markdown",
   "id": "af2410a6",
   "metadata": {},
   "source": [
    "## 5️⃣ Multiple Decorators\n",
    "You can stack multiple decorators to modify function behavior."
   ]
  },
  {
   "cell_type": "code",
   "execution_count": null,
   "id": "0887beee",
   "metadata": {},
   "outputs": [],
   "source": [
    "def uppercase_decorator(func):\n",
    "    def wrapper():\n",
    "        return func().upper()\n",
    "    return wrapper\n",
    "\n",
    "def exclamation_decorator(func):\n",
    "    def wrapper():\n",
    "        return func() + \"!!!\"\n",
    "    return wrapper\n",
    "\n",
    "@exclamation_decorator\n",
    "@uppercase_decorator\n",
    "def greet():\n",
    "    return \"hello\"\n",
    "\n",
    "print(greet())\n"
   ]
  },
  {
   "cell_type": "markdown",
   "id": "d24c47a9",
   "metadata": {},
   "source": [
    "## 6️⃣ Class-Based Decorators\n",
    "Instead of functions, we can create decorators using classes."
   ]
  },
  {
   "cell_type": "code",
   "execution_count": null,
   "id": "329d3dd9",
   "metadata": {},
   "outputs": [],
   "source": [
    "class LogDecorator:\n",
    "    def __init__(self, func):\n",
    "        self.func = func\n",
    "\n",
    "    def __call__(self, *args, **kwargs):\n",
    "        print(f\"📌 Executing {self.func.__name__}\")\n",
    "        return self.func(*args, **kwargs)\n",
    "\n",
    "@LogDecorator\n",
    "def greet(name):\n",
    "    print(f\"Hello, {name}!\")\n",
    "\n",
    "greet(\"Alice\")\n"
   ]
  },
  {
   "cell_type": "markdown",
   "id": "b2aba46c",
   "metadata": {},
   "source": [
    "## 7️⃣ Decorating Methods in Classes\n",
    "Decorators can be applied to class methods as well."
   ]
  },
  {
   "cell_type": "code",
   "execution_count": null,
   "id": "72059cb5",
   "metadata": {},
   "outputs": [],
   "source": [
    "def method_logger(func):\n",
    "    def wrapper(*args, **kwargs):\n",
    "        print(f\"📌 Method {func.__name__} called\")\n",
    "        return func(*args, **kwargs)\n",
    "    return wrapper\n",
    "\n",
    "class MathOperations:\n",
    "    @method_logger\n",
    "    def add(self, x, y):\n",
    "        return x + y\n",
    "\n",
    "math = MathOperations()\n",
    "print(math.add(5, 3))\n"
   ]
  }
 ],
 "metadata": {},
 "nbformat": 4,
 "nbformat_minor": 5
}