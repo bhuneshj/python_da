{
 "cells": [
  {
   "cell_type": "code",
   "execution_count": null,
   "id": "0f42619b-6505-4307-b230-aa35234d0fe2",
   "metadata": {},
   "outputs": [],
   "source": [
    "pip install numpy pandas seaborn matplotlib pillow"
   ]
  },
  {
   "cell_type": "code",
   "execution_count": null,
   "id": "a5325cf0-8833-4da2-9311-25785be158b0",
   "metadata": {},
   "outputs": [],
   "source": [
    "pip list"
   ]
  },
  {
   "cell_type": "markdown",
   "id": "1f0ec434-2193-439a-ad4e-a7fc86a4ab7f",
   "metadata": {},
   "source": [
    "## Analyze data\n",
    "we will analyze Taxi rides data in order to exercise our skills and get valuable insights."
   ]
  },
  {
   "cell_type": "code",
   "execution_count": null,
   "id": "84078456-ba16-4914-a0a5-ffab9f92aaec",
   "metadata": {},
   "outputs": [],
   "source": [
    "import numpy as np\n",
    "import pandas as pd\n",
    "import seaborn as sns\n",
    "from matplotlib import pyplot as plt\n",
    "%matplotlib inline"
   ]
  },
  {
   "cell_type": "markdown",
   "id": "2d0871e3-9f36-4b80-9efe-933464f021d6",
   "metadata": {},
   "source": [
    "File Path"
   ]
  },
  {
   "cell_type": "code",
   "execution_count": null,
   "id": "27238030-c38d-48c3-9fb1-d56c99f2510a",
   "metadata": {},
   "outputs": [],
   "source": [
    "trips_path = '/datasets/taxi_trip_data.csv'"
   ]
  },
  {
   "cell_type": "markdown",
   "id": "668b1406-7443-4bd3-a459-831dd4a7cfad",
   "metadata": {},
   "source": [
    "Reading the CSV File:"
   ]
  },
  {
   "cell_type": "code",
   "execution_count": null,
   "id": "e12ab7e7-16e0-4530-875f-f3a8b726beb5",
   "metadata": {},
   "outputs": [],
   "source": [
    "import os\n",
    "trips = pd.read_csv(os.getcwd()+trips_path)"
   ]
  },
  {
   "cell_type": "code",
   "execution_count": null,
   "id": "faac295c-5a41-4cd9-8378-a47ca4202fe4",
   "metadata": {},
   "outputs": [],
   "source": [
    "from IPython.display import display"
   ]
  },
  {
   "cell_type": "code",
   "execution_count": null,
   "id": "e3342f3a-e691-4bbe-bbf3-6b91345ff50d",
   "metadata": {},
   "outputs": [],
   "source": [
    "display(trips.head())  # Show first 5 rows"
   ]
  },
  {
   "cell_type": "code",
   "execution_count": null,
   "id": "02c4f13c-9180-428f-a8ba-71e1aaedd016",
   "metadata": {},
   "outputs": [],
   "source": [
    "display(trips.sample(5))"
   ]
  },
  {
   "cell_type": "code",
   "execution_count": null,
   "id": "43ade17b-7d46-4c26-98f9-5f901703a9c1",
   "metadata": {},
   "outputs": [],
   "source": [
    "display(trips.info())"
   ]
  },
  {
   "cell_type": "code",
   "execution_count": null,
   "id": "ef14d011-2113-4c0a-976e-1fa1462518bf",
   "metadata": {},
   "outputs": [],
   "source": [
    "pd.options.display.float_format = '{:.2f}'.format\n",
    "display(trips.describe())"
   ]
  },
  {
   "cell_type": "markdown",
   "id": "3218b69e-4939-41c5-b34a-623ff6c1b208",
   "metadata": {},
   "source": [
    "##### Data preparation and cleaning\n",
    "We will begin by removing duplicates and seeing how many there were in initial dataset"
   ]
  },
  {
   "cell_type": "code",
   "execution_count": null,
   "id": "d2590a3f-643d-4021-add1-7644e12e8b76",
   "metadata": {},
   "outputs": [],
   "source": [
    "with_dups = trips.shape[0]\n",
    "trips.drop_duplicates(inplace=True)\n",
    "\n",
    "print(f\"{round((with_dups-trips.shape[0])/with_dups*100, 2)}% of rows were duplicates\")\n",
    "print(f\"duplicates dropped with {trips.shape[0]} rows remaining\")"
   ]
  },
  {
   "cell_type": "markdown",
   "id": "ce5625a2-56aa-44f6-bf62-dfa5e19338ab",
   "metadata": {},
   "source": [
    "And now we count missing values, luckily there are none this time"
   ]
  },
  {
   "cell_type": "code",
   "execution_count": null,
   "id": "53bbcc41-829a-4dba-8a56-5484cf32ee30",
   "metadata": {},
   "outputs": [],
   "source": [
    "trips.isna().sum()"
   ]
  },
  {
   "cell_type": "code",
   "execution_count": null,
   "id": "c864f4ab-9e65-4b84-8a7c-0a5449f37a95",
   "metadata": {},
   "outputs": [],
   "source": [
    "#Some missing values can be zeroes so let's check this too\n",
    "\n",
    "def zero_cnt(df): \n",
    "    print(\"Count of zeroes and empty strings:\")\n",
    "    print(\"column                   count     percentage\")\n",
    "    for col in df.columns:\n",
    "        if df[col].dtype != 'object':\n",
    "            cnt = df[df[col] == 0].shape[0]\n",
    "        else:\n",
    "            cnt = df[df[col] == ''].shape[0]\n",
    "        print(f\"{col:<25}{cnt:<10}{round(cnt/df.shape[0]*100, 2):<5}\")\n",
    "        \n",
    "zero_cnt(trips)"
   ]
  },
  {
   "cell_type": "markdown",
   "id": "c82c788c-8f6d-4b11-8888-caeea19d9063",
   "metadata": {},
   "source": [
    "Percentage of records with invalid trip distance or fare amount is relatively low, so we can drop them without worrying too much"
   ]
  },
  {
   "cell_type": "code",
   "execution_count": null,
   "id": "728fda87-3295-4c36-945a-a68c34bb3243",
   "metadata": {},
   "outputs": [],
   "source": [
    "trips = trips[trips['trip_distance']!=0]\n",
    "trips = trips[trips['fare_amount']!=0]\n",
    "zero_cnt(trips)"
   ]
  },
  {
   "cell_type": "markdown",
   "id": "dd7b2cf1-89d7-4dac-8566-bb44204c7156",
   "metadata": {},
   "source": [
    "And the last things left to do are converting required columns to datetime format, dropping records that for example ended in dispute over charge, select only columns that are relevant for our purposes and finally see how many records are left for us to work with."
   ]
  },
  {
   "cell_type": "code",
   "execution_count": null,
   "id": "d5ade7a3-20fe-4c1f-841e-f60935b8f681",
   "metadata": {},
   "outputs": [],
   "source": [
    "trips['pickup_datetime'] = pd.to_datetime(trips['pickup_datetime'])\n",
    "trips['dropoff_datetime'] = pd.to_datetime(trips['dropoff_datetime'])"
   ]
  },
  {
   "cell_type": "code",
   "execution_count": null,
   "id": "7b1f8523-c9f3-4172-9738-1572e0964777",
   "metadata": {},
   "outputs": [],
   "source": [
    "trips = trips[(trips['payment_type']==1)|(trips['payment_type']==2)|(trips['payment_type']==3)]\n",
    "trips = trips[trips['pickup_datetime'].dt.year == 2018]\n",
    "trips.shape[0]"
   ]
  },
  {
   "cell_type": "code",
   "execution_count": null,
   "id": "918fdc7d-8775-4720-9747-8e93ef35e9f6",
   "metadata": {},
   "outputs": [],
   "source": [
    "trips = trips.loc[:,['pickup_datetime','dropoff_datetime','passenger_count','trip_distance','rate_code','fare_amount','pickup_location_id','dropoff_location_id']]"
   ]
  },
  {
   "cell_type": "markdown",
   "id": "7c760890-96ab-42ae-ad60-c73f73bbcaf2",
   "metadata": {},
   "source": [
    "### Explanation:\n",
    "trips.loc[:, column_list]\n",
    "\n",
    ".loc[]: Used for selecting data by labels.\n",
    "\n",
    ": (before the comma) selects all rows.\n",
    "\n",
    "column_list (after the comma) selects only the specified columns.\n",
    "\n",
    "The selected columns are:\n",
    "\n",
    "pickup_datetime → Time when the ride started.\n",
    "\n",
    "dropoff_datetime → Time when the ride ended.\n",
    "\n",
    "passenger_count → Number of passengers in the ride.\n",
    "\n",
    "trip_distance → Distance traveled during the ride.\n",
    "\n",
    "rate_code → Code indicating the fare type (e.g., standard, airport ride, etc.).\n",
    "\n",
    "fare_amount → Total fare charged for the ride.\n",
    "\n",
    "pickup_location_id → Location ID where the trip started.\n",
    "\n",
    "dropoff_location_id → Location ID where the trip ended."
   ]
  },
  {
   "cell_type": "markdown",
   "id": "1773a7fa-bda5-4b77-a540-5ccf2faffa22",
   "metadata": {},
   "source": [
    "### Data analysis and visualization\n",
    "So, before making any visualizations we just make our life easier by adding separate columns with information we will need later on"
   ]
  },
  {
   "cell_type": "code",
   "execution_count": null,
   "id": "34313b32-54c4-4655-aa6a-329a0eba27af",
   "metadata": {},
   "outputs": [],
   "source": [
    "trips['day_of_week'] = trips['pickup_datetime'].dt.dayofweek\n",
    "trips['hour'] = trips['pickup_datetime'].dt.hour\n",
    "trips['duration_hours'] = (trips['dropoff_datetime']-trips['pickup_datetime']).astype('timedelta64[s]')/3600\n",
    "#trips['speed_mph'] = (trips['trip_distance']/trips['duration_hours']).astype('float64')\n",
    "trips.loc[trips['duration_hours'] == 0, 'duration_hours'] = np.nan\n",
    "trips = trips.dropna(subset=['pickup_datetime', 'dropoff_datetime'])"
   ]
  },
  {
   "cell_type": "code",
   "execution_count": null,
   "id": "3456ed26-837e-4ea6-a35e-fbf1d81615c3",
   "metadata": {},
   "outputs": [],
   "source": [
    "trips = trips.dropna(subset=['pickup_datetime', 'dropoff_datetime'])"
   ]
  },
  {
   "cell_type": "code",
   "execution_count": null,
   "id": "3b162466-eaaa-4dbd-9090-888f6ff6caa4",
   "metadata": {},
   "outputs": [],
   "source": [
    "trips['duration_hours'] = trips['dropoff_datetime'] - trips['pickup_datetime']\n",
    "trips['duration_hours'] = trips['duration_hours'].dt.total_seconds() / 3600  # Convert timedelta to hours"
   ]
  },
  {
   "cell_type": "code",
   "execution_count": null,
   "id": "5d65dd7b-a35b-4915-b438-55e40d07eecf",
   "metadata": {},
   "outputs": [],
   "source": [
    "trips['speed_mph'] = trips['trip_distance'] / trips['duration_hours']"
   ]
  },
  {
   "cell_type": "markdown",
   "id": "c1878e7a-4390-452e-a390-9e849fd5b7d2",
   "metadata": {},
   "source": [
    "And now let's make our first chart: lineplot of taxi's average speed by hour. We can immediately see sighnificant drops in average speed corresponding to rush hours they are especially pronounced in rate codes 2 to 4 which correspond to areas outside of city center such as JFK airport or Nassau county.\n",
    "\n",
    "This drops would be more distinguished if we only used workday data, but we will go over that later"
   ]
  },
  {
   "cell_type": "code",
   "execution_count": null,
   "id": "cfdfd59e-7973-49b1-a110-933b74fcddf9",
   "metadata": {},
   "outputs": [],
   "source": [
    "avg_speed_by_h = trips[(trips['duration_hours']>0.01)&(trips['rate_code']<5)].groupby(by=['hour','rate_code'],as_index=False).agg(avg_speed=('speed_mph','mean'))\n",
    "sns.lineplot(data=avg_speed_by_h,x='hour',y='avg_speed',hue='rate_code');"
   ]
  },
  {
   "cell_type": "markdown",
   "id": "6ea7bab5-889e-43c5-a928-b43ae6d7cf60",
   "metadata": {},
   "source": [
    "Okay, now we will see differences in demand for taxi in different times of the day and how it changes between workdays and weekends.\n",
    "\n",
    "It is important to remember that we shouldn't compare absolute values because our bar chart shows counts of rides and week has only two weekends as compared to five workdays.\n",
    "\n",
    "So what can we see on this chart?\n",
    "\n",
    "We can see difference of lowest demands between workdays and weekends:on workdays highest number of people sleeping(presumably) is around 2-3 a.m. and on weekwnds it is at 5 p.m.\n",
    "\n",
    "Also weekends have their own peaks of taxi demand: late afternoon to evening when people go out and around midnight when they return home"
   ]
  },
  {
   "cell_type": "code",
   "execution_count": null,
   "id": "2df772d3-429a-4505-8c4c-deee5d77d902",
   "metadata": {},
   "outputs": [],
   "source": [
    "fig, axes = plt.subplots(figsize=(15,6), nrows=1, ncols=2)\n",
    "workday_trips = trips.loc[trips['day_of_week']<5]\n",
    "weekend_trips = trips.loc[trips['day_of_week']>=5]\n",
    "\n",
    "sns.countplot(ax=axes[0], x=workday_trips['hour'])\n",
    "sns.countplot(ax=axes[1], x=weekend_trips['hour'])\n",
    "\n",
    "axes[0].set_title('Workdays',fontsize = 18)\n",
    "axes[0].set_xlabel('hour', fontsize=15)\n",
    "axes[0].set_ylabel('number of pickups', fontsize=15)\n",
    "axes[1].set_title('Weekends',fontsize = 18)\n",
    "axes[1].set_xlabel('hour', fontsize=15)\n",
    "axes[1].set_ylabel('number of pickups', fontsize=15)\n",
    "\n",
    "fig.suptitle('Number of pickups on workdays and weekends',fontsize = 20)\n",
    "plt.subplots_adjust(top = 0.85)\n",
    "plt.show;"
   ]
  },
  {
   "cell_type": "markdown",
   "id": "dfdd9342-67d0-4396-b693-4ba8f5039cc9",
   "metadata": {},
   "source": [
    "Third and final chart before the grand finale is a heatmap of number of taxi rides by hour and day of week. I invite you to go through the code first and we will discuss results later."
   ]
  },
  {
   "cell_type": "code",
   "execution_count": null,
   "id": "3af1168e-f074-4f5d-bcce-c46b37b5aa99",
   "metadata": {},
   "outputs": [],
   "source": [
    "dow_h_count = trips.groupby(['day_of_week','hour']).pickup_datetime.count()\n",
    "dow_h_count = dow_h_count.reset_index()\n",
    "dow_h_count.columns = ['day_of_week','hour','count']\n",
    "dow_h_count.head()"
   ]
  },
  {
   "cell_type": "markdown",
   "id": "b113d63b-1fef-4c9c-9f6e-fe2d8c968ab9",
   "metadata": {},
   "source": [
    "This groups the trips DataFrame by day of the week (day_of_week) and hour (hour).\n",
    "\n",
    "It then counts the number of trips (pickup_datetime.count()) in each group.\n",
    "\n",
    "The result is a Pandas Series, where the index is ['day_of_week', 'hour'] and the values are the trip counts.\n",
    "\n",
    "Since groupby() returns a Series, reset_index() converts it into a proper DataFrame with day_of_week and hour as separate columns.\n",
    "\n",
    "The grouped DataFrame originally has unnamed columns.\n",
    "\n",
    "This explicitly renames them as:\n",
    "\n",
    "day_of_week → Day of the week (0=Monday, 6=Sunday)\n",
    "\n",
    "hour → Hour of the day (0-23)\n",
    "\n",
    "count → Number of trips in that day-hour combination.\n",
    "Displays the first five rows of the dataset for inspection.\n"
   ]
  },
  {
   "cell_type": "code",
   "execution_count": null,
   "id": "38806f47-f665-4cdb-9840-4d00f426845c",
   "metadata": {},
   "outputs": [],
   "source": [
    "dow_h_count_piv = dow_h_count.pivot(index='day_of_week',columns='hour',values='count')\n",
    "dow_h_count_piv.head()"
   ]
  },
  {
   "cell_type": "code",
   "execution_count": null,
   "id": "78c3b615-99bb-4e92-a2e3-ebfdf6fd4a7d",
   "metadata": {},
   "outputs": [],
   "source": [
    "dow_h_count_piv.index = pd.Index(['Monday','Tuesday','Wednesday','Thursday','Friday','Saturday','Sunday'])\n",
    "dow_h_count_piv.index.name = 'day_of_week'"
   ]
  },
  {
   "cell_type": "code",
   "execution_count": null,
   "id": "c18e8902-4b28-406c-a742-15847b9762ae",
   "metadata": {},
   "outputs": [],
   "source": [
    "plt.figure(figsize=(15,6))\n",
    "sns.heatmap(data=dow_h_count_piv,cmap='viridis',square=True);"
   ]
  },
  {
   "cell_type": "markdown",
   "id": "37d5e475-1583-4ff3-80c0-be80372cca53",
   "metadata": {},
   "source": [
    "Here it is, the heatmap that once again confirms what we saw in other charts(for example different low demand perionds on weekends), adding something new as well.\n",
    "\n",
    "For example, we see that afternoon-evening weekend demand from previous bar chart mostly comes from Sunday as shown by corresponding horizontal stripe.\n",
    "\n",
    "We also see vertical stripes like 21-22 p.m. when people tend to get home from various social activities(dinner parties, dates). Although it may seem odd at first that highest overall demand for rides is on Thursday rather than Friday is is explained by the fact that on Thursdays people need to maintain sleeping scedule because they have job the next day. On Friday on the other hand they prefer getting cab later with that demand \"spread more thinly\" over after midnight hours of Saturday as can be seen on the heatmap."
   ]
  },
  {
   "cell_type": "markdown",
   "id": "afaccf5d-70c6-4261-ad77-a02f02d16a74",
   "metadata": {},
   "source": [
    "### Animated choropleth map!\n",
    "Author had great time doing this part and takes certain pride in the outcome.\n",
    "\n",
    "Short explanation of what happens here:\n",
    "\n",
    "A few additional imports\n",
    "Dropping rides from airports(for the purposes of map readability)\n",
    "Making image for every hour of day\n",
    "Combining these images in a gif"
   ]
  },
  {
   "cell_type": "code",
   "execution_count": null,
   "id": "522b2048-4086-4534-b3be-44742d7c90f5",
   "metadata": {},
   "outputs": [],
   "source": [
    "!pip install geopandas imageio shapely"
   ]
  },
  {
   "cell_type": "code",
   "execution_count": null,
   "id": "17132c0c-f131-4bab-b4c9-acecac39ec7f",
   "metadata": {},
   "outputs": [],
   "source": [
    "import geopandas as gpd\n",
    "import imageio\n",
    "from shapely import wkt"
   ]
  },
  {
   "cell_type": "code",
   "execution_count": null,
   "id": "79bb2eff-7ab1-4156-b55c-f7f1d52677d3",
   "metadata": {},
   "outputs": [],
   "source": [
    "zones = pd.read_csv(os.getcwd() + \"/datasets/taxi_zone_geo.csv\")"
   ]
  },
  {
   "cell_type": "code",
   "execution_count": null,
   "id": "ffcfaadf-0bac-457a-b111-f2104d7b4804",
   "metadata": {},
   "outputs": [],
   "source": [
    "zones['zone_geom'] = zones['zone_geom'].apply(wkt.loads)"
   ]
  },
  {
   "cell_type": "code",
   "execution_count": null,
   "id": "790aa017-f7ee-4f32-a6c4-880ed50cb9e9",
   "metadata": {},
   "outputs": [],
   "source": [
    "airports_mask = zones['zone_name'].str.contains('Airport|airport|AIRPORT',regex=True,na=False)\n",
    "zones_no_airports = zones[~airports_mask]\n",
    "zones_no_airports_geo = gpd.GeoDataFrame(data=zones_no_airports, geometry='zone_geom')\n",
    "zones_no_airports_geo.plot();"
   ]
  },
  {
   "cell_type": "code",
   "execution_count": null,
   "id": "e573b132-d035-4346-919c-46d5ceaa8b7a",
   "metadata": {},
   "outputs": [],
   "source": []
  }
 ],
 "metadata": {
  "kernelspec": {
   "display_name": "Python 3 (ipykernel)",
   "language": "python",
   "name": "python3"
  },
  "language_info": {
   "codemirror_mode": {
    "name": "ipython",
    "version": 3
   },
   "file_extension": ".py",
   "mimetype": "text/x-python",
   "name": "python",
   "nbconvert_exporter": "python",
   "pygments_lexer": "ipython3",
   "version": "3.12.9"
  }
 },
 "nbformat": 4,
 "nbformat_minor": 5
}
