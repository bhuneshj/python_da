{
 "cells": [
  {
   "cell_type": "markdown",
   "id": "1fabf4ac",
   "metadata": {},
   "source": [
    "# 🏆 NumPy Hands-On Session\n",
    "\n",
    "**Topics Covered:**\n",
    "- Basics of NumPy Arrays\n",
    "- Array Operations\n",
    "- Indexing & Slicing\n",
    "- Mathematical & Statistical Functions\n",
    "- Broadcasting\n",
    "- Performance Optimization\n",
    "\n",
    "**📌 Let's get started!**"
   ]
  },
  {
   "cell_type": "code",
   "execution_count": 1,
   "id": "92c50122",
   "metadata": {},
   "outputs": [],
   "source": [
    "import numpy as np  # Importing NumPy"
   ]
  },
  {
   "cell_type": "markdown",
   "id": "e3fe080d",
   "metadata": {},
   "source": [
    "## 1️⃣ Creating NumPy Arrays"
   ]
  },
  {
   "cell_type": "code",
   "execution_count": 2,
   "id": "226ce9d4",
   "metadata": {},
   "outputs": [
    {
     "name": "stdout",
     "output_type": "stream",
     "text": [
      "[1 2 3 4 5] <class 'numpy.ndarray'>\n"
     ]
    }
   ],
   "source": [
    "# Creating an array from a list\n",
    "arr = np.array([1, 2, 3, 4, 5])\n",
    "print(arr, type(arr))"
   ]
  },
  {
   "cell_type": "code",
   "execution_count": 3,
   "id": "9d470f58",
   "metadata": {},
   "outputs": [
    {
     "name": "stdout",
     "output_type": "stream",
     "text": [
      "Shape: (5,), Data Type: int64\n"
     ]
    }
   ],
   "source": [
    "# Array properties\n",
    "print(f'Shape: {arr.shape}, Data Type: {arr.dtype}')"
   ]
  },
  {
   "cell_type": "markdown",
   "id": "58a41b61",
   "metadata": {},
   "source": [
    "**📝 Exercise:** Create a 3x3 matrix filled with random numbers."
   ]
  },
  {
   "cell_type": "code",
   "execution_count": 4,
   "id": "8c1d8e3f",
   "metadata": {},
   "outputs": [
    {
     "name": "stdout",
     "output_type": "stream",
     "text": [
      "[[0.70931708 0.9222779  0.77322761]\n",
      " [0.31606427 0.56177309 0.3262277 ]\n",
      " [0.62861701 0.18755231 0.90903535]]\n"
     ]
    }
   ],
   "source": [
    "# Solution\n",
    "matrix = np.random.rand(3, 3)\n",
    "print(matrix)"
   ]
  },
  {
   "cell_type": "markdown",
   "id": "9058783a",
   "metadata": {},
   "source": [
    "## 2️⃣ Indexing & Slicing"
   ]
  },
  {
   "cell_type": "code",
   "execution_count": 5,
   "id": "5140430c",
   "metadata": {},
   "outputs": [
    {
     "name": "stdout",
     "output_type": "stream",
     "text": [
      "1 5\n"
     ]
    }
   ],
   "source": [
    "# Accessing elements\n",
    "print(arr[0], arr[-1])  # First and last element"
   ]
  },
  {
   "cell_type": "markdown",
   "id": "fd0d12de",
   "metadata": {},
   "source": [
    "**📝 Exercise:** Extract a subarray from the matrix."
   ]
  },
  {
   "cell_type": "code",
   "execution_count": 6,
   "id": "0d4d011e",
   "metadata": {},
   "outputs": [
    {
     "name": "stdout",
     "output_type": "stream",
     "text": [
      "[[0.70931708 0.9222779 ]\n",
      " [0.31606427 0.56177309]]\n"
     ]
    }
   ],
   "source": [
    "# Solution\n",
    "subarray = matrix[:2, :2]  # Top-left 2x2 submatrix\n",
    "print(subarray)"
   ]
  },
  {
   "cell_type": "markdown",
   "id": "a508d34d",
   "metadata": {},
   "source": [
    "## 3️⃣ Mathematical Operations"
   ]
  },
  {
   "cell_type": "code",
   "execution_count": 7,
   "id": "5bd8b6d7",
   "metadata": {},
   "outputs": [
    {
     "name": "stdout",
     "output_type": "stream",
     "text": [
      "[11 22 33 44 55] [ 2  4  6  8 10]\n"
     ]
    }
   ],
   "source": [
    "# Element-wise operations\n",
    "arr2 = np.array([10, 20, 30, 40, 50])\n",
    "print(arr + arr2, arr * 2)"
   ]
  },
  {
   "cell_type": "markdown",
   "id": "d8178405",
   "metadata": {},
   "source": [
    "**📝 Exercise:** Compute the mean and standard deviation of a large array."
   ]
  },
  {
   "cell_type": "code",
   "execution_count": 8,
   "id": "fcaea61a",
   "metadata": {},
   "outputs": [
    {
     "name": "stdout",
     "output_type": "stream",
     "text": [
      "Mean: -0.012915088039816058, Std Dev: 1.0031356996089862\n"
     ]
    }
   ],
   "source": [
    "# Solution\n",
    "large_arr = np.random.randn(1000)\n",
    "print(f'Mean: {np.mean(large_arr)}, Std Dev: {np.std(large_arr)}')"
   ]
  },
  {
   "cell_type": "markdown",
   "id": "14b9b008",
   "metadata": {},
   "source": [
    "## 4️⃣ Broadcasting"
   ]
  },
  {
   "cell_type": "code",
   "execution_count": 9,
   "id": "23da5ac8",
   "metadata": {},
   "outputs": [
    {
     "name": "stdout",
     "output_type": "stream",
     "text": [
      "[11 12 13]\n"
     ]
    }
   ],
   "source": [
    "# Broadcasting Example\n",
    "arr3 = np.array([1, 2, 3])\n",
    "print(arr3 + 10)  # Adds 10 to each element"
   ]
  },
  {
   "cell_type": "markdown",
   "id": "16407915",
   "metadata": {},
   "source": [
    "## 5️⃣ Performance Optimization"
   ]
  },
  {
   "cell_type": "code",
   "execution_count": 10,
   "id": "76c5be21",
   "metadata": {},
   "outputs": [
    {
     "name": "stdout",
     "output_type": "stream",
     "text": [
      "Loop Time: 0.47799 sec\n",
      "NumPy Time: 0.03199 sec\n"
     ]
    }
   ],
   "source": [
    "# Vectorized Operation vs Loop\n",
    "import time\n",
    "A = np.random.rand(1000000)\n",
    "B = np.random.rand(1000000)\n",
    "\n",
    "# Using Loop\n",
    "start = time.time()\n",
    "C = [A[i] + B[i] for i in range(len(A))]\n",
    "print(f'Loop Time: {time.time() - start:.5f} sec')\n",
    "\n",
    "# Using NumPy\n",
    "start = time.time()\n",
    "C = A + B\n",
    "print(f'NumPy Time: {time.time() - start:.5f} sec')"
   ]
  },
  {
   "cell_type": "markdown",
   "id": "4ff3e83e",
   "metadata": {},
   "source": [
    "## 🎯 Summary & Takeaways\n",
    "- NumPy provides powerful array manipulation features.\n",
    "- Operations are **vectorized**, making them fast.\n",
    "- **Broadcasting** simplifies operations on different-sized arrays.\n",
    "- Always prefer **NumPy over Python loops** for efficiency!\n",
    "\n",
    "**🚀 Keep practicing and exploring!**"
   ]
  }
 ],
 "metadata": {
  "kernelspec": {
   "display_name": "Python 3 (ipykernel)",
   "language": "python",
   "name": "python3"
  },
  "language_info": {
   "codemirror_mode": {
    "name": "ipython",
    "version": 3
   },
   "file_extension": ".py",
   "mimetype": "text/x-python",
   "name": "python",
   "nbconvert_exporter": "python",
   "pygments_lexer": "ipython3",
   "version": "3.12.9"
  }
 },
 "nbformat": 4,
 "nbformat_minor": 5
}
